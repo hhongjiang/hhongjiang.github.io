{
  "nbformat": 4,
  "nbformat_minor": 0,
  "metadata": {
    "kernelspec": {
      "display_name": "Python 3",
      "language": "python",
      "name": "python3"
    },
    "language_info": {
      "codemirror_mode": {
        "name": "ipython",
        "version": 2
      },
      "file_extension": ".py",
      "mimetype": "text/x-python",
      "name": "python",
      "nbconvert_exporter": "python",
      "pygments_lexer": "ipython2",
      "version": "2.7.15"
    },
    "colab": {
      "name": "ModelSelection_JFK_AppliedDataScience__midterm.ipynb",
      "provenance": []
    }
  },
  "cells": [
    {
      "cell_type": "markdown",
      "metadata": {
        "id": "WLd31rLFVZdH",
        "colab_type": "text"
      },
      "source": [
        "# ADS Midterm 2019"
      ]
    },
    {
      "cell_type": "markdown",
      "metadata": {
        "id": "8NT7Or6VVZdJ",
        "colab_type": "text"
      },
      "source": [
        "## Theoretic part"
      ]
    },
    {
      "cell_type": "code",
      "metadata": {
        "id": "1dmr7vF4VZdS",
        "colab_type": "code",
        "colab": {}
      },
      "source": [
        "# import packages\n",
        "import numpy as np\n",
        "import matplotlib\n",
        "import matplotlib.pyplot as plt\n",
        "import pandas as pd\n",
        "import statsmodels.formula.api as smf\n",
        "from sklearn.metrics import mean_squared_error, r2_score\n",
        "import datetime as dt\n",
        "from sklearn import linear_model\n",
        "from sklearn import model_selection\n",
        "from sklearn import preprocessing\n",
        "from sklearn.metrics import silhouette_samples, silhouette_score\n",
        "from sklearn.cluster import KMeans\n",
        "\n",
        "# suppress warning\n",
        "import warnings\n",
        "warnings.simplefilter(action='ignore', category=FutureWarning)"
      ],
      "execution_count": 0,
      "outputs": []
    },
    {
      "cell_type": "markdown",
      "metadata": {
        "id": "2ucSIEyoVZdV",
        "colab_type": "text"
      },
      "source": [
        "# Midterm: FHV Traffic Modeling for Real-Time Autonomous Vehicle Solutions in JFK\n",
        "\n",
        "Transportation network models are essential to transportation operations and planning. A simple yet well-designed linear model can provide us insights on the traffic demand. We are going to model the outgoing traffic around JFK, one of the busiest transportation hubs in NYC. \n",
        "In this test, you'll be asked to:\n",
        "* Find possible correlations from observations\n",
        "* Incoperate time patterns using dummy variables\n",
        "* Run and diagnose linear models, in-sample and out-of-sample. Perform feature selection\n",
        "* Cluster the days based on their ridership patterns to see if we can detect any outliers"
      ]
    },
    {
      "cell_type": "markdown",
      "metadata": {
        "id": "2g3b6tuCVZdW",
        "colab_type": "text"
      },
      "source": [
        "We will be importing the dataset `JFK60.csv` providing FHV ridership and arrivals at the airport aggregated on the hourly basis:\n",
        "* `fhv`: Number of FHV (For Hired Vehicle) departing from JFK. This is our target variable.\n",
        "* `arrival`: Number of incoming domestic flights arriving JFK, which is assumed to provide a basis for future FHV demand"
      ]
    },
    {
      "cell_type": "code",
      "metadata": {
        "id": "J6FducTrVZdX",
        "colab_type": "code",
        "colab": {}
      },
      "source": [
        "# import and curate the dataset\n",
        "dataset = pd.read_csv(\"JFK60.csv\")"
      ],
      "execution_count": 0,
      "outputs": []
    },
    {
      "cell_type": "code",
      "metadata": {
        "id": "p9I4bb-DVZda",
        "colab_type": "code",
        "outputId": "c51d9df5-cc46-4f45-e58f-194b211d2a3a",
        "colab": {}
      },
      "source": [
        "dataset.head()"
      ],
      "execution_count": 0,
      "outputs": [
        {
          "output_type": "execute_result",
          "data": {
            "text/html": [
              "<div>\n",
              "<style scoped>\n",
              "    .dataframe tbody tr th:only-of-type {\n",
              "        vertical-align: middle;\n",
              "    }\n",
              "\n",
              "    .dataframe tbody tr th {\n",
              "        vertical-align: top;\n",
              "    }\n",
              "\n",
              "    .dataframe thead th {\n",
              "        text-align: right;\n",
              "    }\n",
              "</style>\n",
              "<table border=\"1\" class=\"dataframe\">\n",
              "  <thead>\n",
              "    <tr style=\"text-align: right;\">\n",
              "      <th></th>\n",
              "      <th>date</th>\n",
              "      <th>arrival</th>\n",
              "      <th>fhv</th>\n",
              "    </tr>\n",
              "  </thead>\n",
              "  <tbody>\n",
              "    <tr>\n",
              "      <th>0</th>\n",
              "      <td>18/1/1 0:00</td>\n",
              "      <td>6</td>\n",
              "      <td>263</td>\n",
              "    </tr>\n",
              "    <tr>\n",
              "      <th>1</th>\n",
              "      <td>18/1/1 1:00</td>\n",
              "      <td>6</td>\n",
              "      <td>138</td>\n",
              "    </tr>\n",
              "    <tr>\n",
              "      <th>2</th>\n",
              "      <td>18/1/1 2:00</td>\n",
              "      <td>2</td>\n",
              "      <td>50</td>\n",
              "    </tr>\n",
              "    <tr>\n",
              "      <th>3</th>\n",
              "      <td>18/1/1 3:00</td>\n",
              "      <td>0</td>\n",
              "      <td>24</td>\n",
              "    </tr>\n",
              "    <tr>\n",
              "      <th>4</th>\n",
              "      <td>18/1/1 4:00</td>\n",
              "      <td>2</td>\n",
              "      <td>45</td>\n",
              "    </tr>\n",
              "  </tbody>\n",
              "</table>\n",
              "</div>"
            ],
            "text/plain": [
              "          date  arrival  fhv\n",
              "0  18/1/1 0:00        6  263\n",
              "1  18/1/1 1:00        6  138\n",
              "2  18/1/1 2:00        2   50\n",
              "3  18/1/1 3:00        0   24\n",
              "4  18/1/1 4:00        2   45"
            ]
          },
          "metadata": {
            "tags": []
          },
          "execution_count": 3
        }
      ]
    },
    {
      "cell_type": "code",
      "metadata": {
        "id": "LsLejcVsVZdg",
        "colab_type": "code",
        "colab": {}
      },
      "source": [
        "# convert the `date` feature into `dt.datetime` format. This is for later creating dummy variables\n",
        "dataset.date = pd.to_datetime(dataset.date, format='%y/%m/%d %H:%M')"
      ],
      "execution_count": 0,
      "outputs": []
    },
    {
      "cell_type": "code",
      "metadata": {
        "id": "LleoDVDJVZdk",
        "colab_type": "code",
        "colab": {}
      },
      "source": [
        "#get day from beginning of the year, hour and day of the week from datetime\n",
        "dataset['hour']=pd.DatetimeIndex(dataset.date).hour"
      ],
      "execution_count": 0,
      "outputs": []
    },
    {
      "cell_type": "code",
      "metadata": {
        "id": "sVW4zivzVZdo",
        "colab_type": "code",
        "colab": {}
      },
      "source": [
        "#get day of the week; monday - 0, sunday - 6\n",
        "dataset['dow']=pd.DatetimeIndex(dataset.date).weekday"
      ],
      "execution_count": 0,
      "outputs": []
    },
    {
      "cell_type": "code",
      "metadata": {
        "id": "k9GXALvlVZdr",
        "colab_type": "code",
        "colab": {}
      },
      "source": [
        "#get day from beginning of the year\n",
        "dataset['day']=((dataset.date-dt.datetime(2018,1,1))/dt.timedelta(days = 1)).astype(int)"
      ],
      "execution_count": 0,
      "outputs": []
    },
    {
      "cell_type": "code",
      "metadata": {
        "id": "D-1F-QMcVZdu",
        "colab_type": "code",
        "outputId": "390f3487-794b-4ab1-ba71-5bd63502edb7",
        "colab": {}
      },
      "source": [
        "dataset.head()"
      ],
      "execution_count": 0,
      "outputs": [
        {
          "output_type": "execute_result",
          "data": {
            "text/html": [
              "<div>\n",
              "<style scoped>\n",
              "    .dataframe tbody tr th:only-of-type {\n",
              "        vertical-align: middle;\n",
              "    }\n",
              "\n",
              "    .dataframe tbody tr th {\n",
              "        vertical-align: top;\n",
              "    }\n",
              "\n",
              "    .dataframe thead th {\n",
              "        text-align: right;\n",
              "    }\n",
              "</style>\n",
              "<table border=\"1\" class=\"dataframe\">\n",
              "  <thead>\n",
              "    <tr style=\"text-align: right;\">\n",
              "      <th></th>\n",
              "      <th>date</th>\n",
              "      <th>arrival</th>\n",
              "      <th>fhv</th>\n",
              "      <th>hour</th>\n",
              "      <th>dow</th>\n",
              "      <th>day</th>\n",
              "    </tr>\n",
              "  </thead>\n",
              "  <tbody>\n",
              "    <tr>\n",
              "      <th>0</th>\n",
              "      <td>2018-01-01 00:00:00</td>\n",
              "      <td>6</td>\n",
              "      <td>263</td>\n",
              "      <td>0</td>\n",
              "      <td>0</td>\n",
              "      <td>0</td>\n",
              "    </tr>\n",
              "    <tr>\n",
              "      <th>1</th>\n",
              "      <td>2018-01-01 01:00:00</td>\n",
              "      <td>6</td>\n",
              "      <td>138</td>\n",
              "      <td>1</td>\n",
              "      <td>0</td>\n",
              "      <td>0</td>\n",
              "    </tr>\n",
              "    <tr>\n",
              "      <th>2</th>\n",
              "      <td>2018-01-01 02:00:00</td>\n",
              "      <td>2</td>\n",
              "      <td>50</td>\n",
              "      <td>2</td>\n",
              "      <td>0</td>\n",
              "      <td>0</td>\n",
              "    </tr>\n",
              "    <tr>\n",
              "      <th>3</th>\n",
              "      <td>2018-01-01 03:00:00</td>\n",
              "      <td>0</td>\n",
              "      <td>24</td>\n",
              "      <td>3</td>\n",
              "      <td>0</td>\n",
              "      <td>0</td>\n",
              "    </tr>\n",
              "    <tr>\n",
              "      <th>4</th>\n",
              "      <td>2018-01-01 04:00:00</td>\n",
              "      <td>2</td>\n",
              "      <td>45</td>\n",
              "      <td>4</td>\n",
              "      <td>0</td>\n",
              "      <td>0</td>\n",
              "    </tr>\n",
              "  </tbody>\n",
              "</table>\n",
              "</div>"
            ],
            "text/plain": [
              "                 date  arrival  fhv  hour  dow  day\n",
              "0 2018-01-01 00:00:00        6  263     0    0    0\n",
              "1 2018-01-01 01:00:00        6  138     1    0    0\n",
              "2 2018-01-01 02:00:00        2   50     2    0    0\n",
              "3 2018-01-01 03:00:00        0   24     3    0    0\n",
              "4 2018-01-01 04:00:00        2   45     4    0    0"
            ]
          },
          "metadata": {
            "tags": []
          },
          "execution_count": 8
        }
      ]
    },
    {
      "cell_type": "code",
      "metadata": {
        "id": "ptib5QiqVZdy",
        "colab_type": "code",
        "colab": {}
      },
      "source": [
        "#add time-lagged arrivals (1,2,3,4,5,6 hours before)\n",
        "maxlag = 12\n",
        "lagdata=pd.DataFrame([])\n",
        "for lag in range(1,maxlag+1):\n",
        "        varname = 'lag' + str(lag)\n",
        "        lagdata[varname] = dataset['arrival'].iloc[maxlag-lag:len(dataset)-lag].reset_index(drop = True)\n",
        "datasetL = pd.concat([dataset.loc[maxlag:].reset_index(drop = True), lagdata.reset_index(drop = True)], axis = 1, sort = False)"
      ],
      "execution_count": 0,
      "outputs": []
    },
    {
      "cell_type": "code",
      "metadata": {
        "id": "0Fun6ZyKVZd2",
        "colab_type": "code",
        "outputId": "508e9e04-55e1-4423-e086-b7799cccba9f",
        "colab": {}
      },
      "source": [
        "datasetL.head()"
      ],
      "execution_count": 0,
      "outputs": [
        {
          "output_type": "execute_result",
          "data": {
            "text/html": [
              "<div>\n",
              "<style scoped>\n",
              "    .dataframe tbody tr th:only-of-type {\n",
              "        vertical-align: middle;\n",
              "    }\n",
              "\n",
              "    .dataframe tbody tr th {\n",
              "        vertical-align: top;\n",
              "    }\n",
              "\n",
              "    .dataframe thead th {\n",
              "        text-align: right;\n",
              "    }\n",
              "</style>\n",
              "<table border=\"1\" class=\"dataframe\">\n",
              "  <thead>\n",
              "    <tr style=\"text-align: right;\">\n",
              "      <th></th>\n",
              "      <th>date</th>\n",
              "      <th>arrival</th>\n",
              "      <th>fhv</th>\n",
              "      <th>hour</th>\n",
              "      <th>dow</th>\n",
              "      <th>day</th>\n",
              "      <th>lag1</th>\n",
              "      <th>lag2</th>\n",
              "      <th>lag3</th>\n",
              "      <th>lag4</th>\n",
              "      <th>lag5</th>\n",
              "      <th>lag6</th>\n",
              "      <th>lag7</th>\n",
              "      <th>lag8</th>\n",
              "      <th>lag9</th>\n",
              "      <th>lag10</th>\n",
              "      <th>lag11</th>\n",
              "      <th>lag12</th>\n",
              "    </tr>\n",
              "  </thead>\n",
              "  <tbody>\n",
              "    <tr>\n",
              "      <th>0</th>\n",
              "      <td>2018-01-01 12:00:00</td>\n",
              "      <td>10</td>\n",
              "      <td>357</td>\n",
              "      <td>12</td>\n",
              "      <td>0</td>\n",
              "      <td>0</td>\n",
              "      <td>7</td>\n",
              "      <td>17</td>\n",
              "      <td>13</td>\n",
              "      <td>11</td>\n",
              "      <td>19</td>\n",
              "      <td>11</td>\n",
              "      <td>16</td>\n",
              "      <td>2</td>\n",
              "      <td>0</td>\n",
              "      <td>2</td>\n",
              "      <td>6</td>\n",
              "      <td>6</td>\n",
              "    </tr>\n",
              "    <tr>\n",
              "      <th>1</th>\n",
              "      <td>2018-01-01 13:00:00</td>\n",
              "      <td>18</td>\n",
              "      <td>390</td>\n",
              "      <td>13</td>\n",
              "      <td>0</td>\n",
              "      <td>0</td>\n",
              "      <td>10</td>\n",
              "      <td>7</td>\n",
              "      <td>17</td>\n",
              "      <td>13</td>\n",
              "      <td>11</td>\n",
              "      <td>19</td>\n",
              "      <td>11</td>\n",
              "      <td>16</td>\n",
              "      <td>2</td>\n",
              "      <td>0</td>\n",
              "      <td>2</td>\n",
              "      <td>6</td>\n",
              "    </tr>\n",
              "    <tr>\n",
              "      <th>2</th>\n",
              "      <td>2018-01-01 14:00:00</td>\n",
              "      <td>19</td>\n",
              "      <td>606</td>\n",
              "      <td>14</td>\n",
              "      <td>0</td>\n",
              "      <td>0</td>\n",
              "      <td>18</td>\n",
              "      <td>10</td>\n",
              "      <td>7</td>\n",
              "      <td>17</td>\n",
              "      <td>13</td>\n",
              "      <td>11</td>\n",
              "      <td>19</td>\n",
              "      <td>11</td>\n",
              "      <td>16</td>\n",
              "      <td>2</td>\n",
              "      <td>0</td>\n",
              "      <td>2</td>\n",
              "    </tr>\n",
              "    <tr>\n",
              "      <th>3</th>\n",
              "      <td>2018-01-01 15:00:00</td>\n",
              "      <td>28</td>\n",
              "      <td>601</td>\n",
              "      <td>15</td>\n",
              "      <td>0</td>\n",
              "      <td>0</td>\n",
              "      <td>19</td>\n",
              "      <td>18</td>\n",
              "      <td>10</td>\n",
              "      <td>7</td>\n",
              "      <td>17</td>\n",
              "      <td>13</td>\n",
              "      <td>11</td>\n",
              "      <td>19</td>\n",
              "      <td>11</td>\n",
              "      <td>16</td>\n",
              "      <td>2</td>\n",
              "      <td>0</td>\n",
              "    </tr>\n",
              "    <tr>\n",
              "      <th>4</th>\n",
              "      <td>2018-01-01 16:00:00</td>\n",
              "      <td>15</td>\n",
              "      <td>676</td>\n",
              "      <td>16</td>\n",
              "      <td>0</td>\n",
              "      <td>0</td>\n",
              "      <td>28</td>\n",
              "      <td>19</td>\n",
              "      <td>18</td>\n",
              "      <td>10</td>\n",
              "      <td>7</td>\n",
              "      <td>17</td>\n",
              "      <td>13</td>\n",
              "      <td>11</td>\n",
              "      <td>19</td>\n",
              "      <td>11</td>\n",
              "      <td>16</td>\n",
              "      <td>2</td>\n",
              "    </tr>\n",
              "  </tbody>\n",
              "</table>\n",
              "</div>"
            ],
            "text/plain": [
              "                 date  arrival  fhv  hour  dow  day  lag1  lag2  lag3  lag4  \\\n",
              "0 2018-01-01 12:00:00       10  357    12    0    0     7    17    13    11   \n",
              "1 2018-01-01 13:00:00       18  390    13    0    0    10     7    17    13   \n",
              "2 2018-01-01 14:00:00       19  606    14    0    0    18    10     7    17   \n",
              "3 2018-01-01 15:00:00       28  601    15    0    0    19    18    10     7   \n",
              "4 2018-01-01 16:00:00       15  676    16    0    0    28    19    18    10   \n",
              "\n",
              "   lag5  lag6  lag7  lag8  lag9  lag10  lag11  lag12  \n",
              "0    19    11    16     2     0      2      6      6  \n",
              "1    11    19    11    16     2      0      2      6  \n",
              "2    13    11    19    11    16      2      0      2  \n",
              "3    17    13    11    19    11     16      2      0  \n",
              "4     7    17    13    11    19     11     16      2  "
            ]
          },
          "metadata": {
            "tags": []
          },
          "execution_count": 10
        }
      ]
    },
    {
      "cell_type": "markdown",
      "metadata": {
        "id": "wntkc9GfVZd_",
        "colab_type": "text"
      },
      "source": [
        "## Task 1. Data Exploration\n",
        "### Q1 (5pts). Print some dataset characteristics: number of records, total number of FHV trips, total number of arriving flights"
      ]
    },
    {
      "cell_type": "code",
      "metadata": {
        "id": "Ek01pqzUVZd_",
        "colab_type": "code",
        "outputId": "415583d9-14b2-4b91-aa8b-72f6e77ed60e",
        "colab": {}
      },
      "source": [
        "nsamp = len(dataset)\n",
        "# this is the duration of our observations: tail - head + 1 \n",
        "print('The time period for this dataset is: ',len(dataset.day.unique()))\n",
        "print('The number of observations are: ',nsamp)\n",
        "print('Total ridership are: ', sum(dataset['fhv']))\n",
        "print('Total arrival flights are: ', sum(dataset['arrival']))\n",
        "print(dataset.describe())\n",
        "# display the first five rows of the dataframe\n",
        "dataset.head(5)"
      ],
      "execution_count": 0,
      "outputs": [
        {
          "output_type": "stream",
          "text": [
            "('The time period for this dataset is: ', 365)\n",
            "('The number of observations are: ', 8760)\n",
            "('Total ridership are: ', 3499619)\n",
            "('Total arrival flights are: ', 126617)\n",
            "           arrival          fhv         hour          dow          day\n",
            "count  8760.000000  8760.000000  8760.000000  8760.000000  8760.000000\n",
            "mean     14.453995   399.499886    11.500000     2.991781   182.000000\n",
            "std       7.895781   218.861141     6.922582     2.003519   105.372043\n",
            "min       0.000000     0.000000     0.000000     0.000000     0.000000\n",
            "25%      10.000000   250.000000     5.750000     1.000000    91.000000\n",
            "50%      16.000000   389.000000    11.500000     3.000000   182.000000\n",
            "75%      20.000000   543.000000    17.250000     5.000000   273.000000\n",
            "max      38.000000  1772.000000    23.000000     6.000000   364.000000\n"
          ],
          "name": "stdout"
        },
        {
          "output_type": "execute_result",
          "data": {
            "text/html": [
              "<div>\n",
              "<style scoped>\n",
              "    .dataframe tbody tr th:only-of-type {\n",
              "        vertical-align: middle;\n",
              "    }\n",
              "\n",
              "    .dataframe tbody tr th {\n",
              "        vertical-align: top;\n",
              "    }\n",
              "\n",
              "    .dataframe thead th {\n",
              "        text-align: right;\n",
              "    }\n",
              "</style>\n",
              "<table border=\"1\" class=\"dataframe\">\n",
              "  <thead>\n",
              "    <tr style=\"text-align: right;\">\n",
              "      <th></th>\n",
              "      <th>date</th>\n",
              "      <th>arrival</th>\n",
              "      <th>fhv</th>\n",
              "      <th>hour</th>\n",
              "      <th>dow</th>\n",
              "      <th>day</th>\n",
              "    </tr>\n",
              "  </thead>\n",
              "  <tbody>\n",
              "    <tr>\n",
              "      <th>0</th>\n",
              "      <td>2018-01-01 00:00:00</td>\n",
              "      <td>6</td>\n",
              "      <td>263</td>\n",
              "      <td>0</td>\n",
              "      <td>0</td>\n",
              "      <td>0</td>\n",
              "    </tr>\n",
              "    <tr>\n",
              "      <th>1</th>\n",
              "      <td>2018-01-01 01:00:00</td>\n",
              "      <td>6</td>\n",
              "      <td>138</td>\n",
              "      <td>1</td>\n",
              "      <td>0</td>\n",
              "      <td>0</td>\n",
              "    </tr>\n",
              "    <tr>\n",
              "      <th>2</th>\n",
              "      <td>2018-01-01 02:00:00</td>\n",
              "      <td>2</td>\n",
              "      <td>50</td>\n",
              "      <td>2</td>\n",
              "      <td>0</td>\n",
              "      <td>0</td>\n",
              "    </tr>\n",
              "    <tr>\n",
              "      <th>3</th>\n",
              "      <td>2018-01-01 03:00:00</td>\n",
              "      <td>0</td>\n",
              "      <td>24</td>\n",
              "      <td>3</td>\n",
              "      <td>0</td>\n",
              "      <td>0</td>\n",
              "    </tr>\n",
              "    <tr>\n",
              "      <th>4</th>\n",
              "      <td>2018-01-01 04:00:00</td>\n",
              "      <td>2</td>\n",
              "      <td>45</td>\n",
              "      <td>4</td>\n",
              "      <td>0</td>\n",
              "      <td>0</td>\n",
              "    </tr>\n",
              "  </tbody>\n",
              "</table>\n",
              "</div>"
            ],
            "text/plain": [
              "                 date  arrival  fhv  hour  dow  day\n",
              "0 2018-01-01 00:00:00        6  263     0    0    0\n",
              "1 2018-01-01 01:00:00        6  138     1    0    0\n",
              "2 2018-01-01 02:00:00        2   50     2    0    0\n",
              "3 2018-01-01 03:00:00        0   24     3    0    0\n",
              "4 2018-01-01 04:00:00        2   45     4    0    0"
            ]
          },
          "metadata": {
            "tags": []
          },
          "execution_count": 11
        }
      ]
    },
    {
      "cell_type": "markdown",
      "metadata": {
        "id": "sZlFyongVZeC",
        "colab_type": "text"
      },
      "source": [
        "## Q2 (10pts). Visualize the timeline of FHV rides and arriving flights over the first month (January, 2018)"
      ]
    },
    {
      "cell_type": "code",
      "metadata": {
        "id": "1bSITI0tVZeD",
        "colab_type": "code",
        "outputId": "b0e398df-7917-483a-dfd9-103688be1335",
        "colab": {}
      },
      "source": [
        "# plot the `fhv` and `arrival` on the timelibe to see if they share similiar tendency\n",
        "# Note that here we only plot January data here for better view. 744 = 24 * 31\n",
        "# You need to use two subplots here because `arrival` and `fhv` have different scale\n",
        "plt.figure(figsize=(20,10))\n",
        "plt.subplot(211)\n",
        "plt.plot(np.array(dataset.date[0:24*31]),dataset['fhv'][0:24*31], color = 'orange')\n",
        "plt.subplot(212)\n",
        "plt.plot(np.array(dataset.date[0:24*31]),dataset['arrival'][0:24*31],color = 'blue')\n",
        "plt.show()"
      ],
      "execution_count": 0,
      "outputs": [
        {
          "output_type": "display_data",
          "data": {
            "image/png": "[encoded data removed]",
            "text/plain": [
              "<Figure size 1440x720 with 2 Axes>"
            ]
          },
          "metadata": {
            "tags": [],
            "needs_background": "light"
          }
        }
      ]
    },
    {
      "cell_type": "markdown",
      "metadata": {
        "id": "pR7qrJyzVZeG",
        "colab_type": "text"
      },
      "source": [
        "### Q3 (5pts). Report correlation between FHV rides and arriving flights"
      ]
    },
    {
      "cell_type": "code",
      "metadata": {
        "id": "FLjB_vapVZeG",
        "colab_type": "code",
        "outputId": "79da5051-3b82-4341-d1e7-bcbbe36e2d64",
        "colab": {}
      },
      "source": [
        "np.corrcoef(dataset.arrival,dataset.fhv)[0,1]"
      ],
      "execution_count": 0,
      "outputs": [
        {
          "output_type": "execute_result",
          "data": {
            "text/plain": [
              "0.6037327153764892"
            ]
          },
          "metadata": {
            "tags": []
          },
          "execution_count": 13
        }
      ]
    },
    {
      "cell_type": "markdown",
      "metadata": {
        "id": "0_rHLhDuVZeK",
        "colab_type": "text"
      },
      "source": [
        "## Task 2: Build Linear Regression Model of FHV vs Arrival data"
      ]
    },
    {
      "cell_type": "code",
      "metadata": {
        "id": "bkmdfJMoVZeK",
        "colab_type": "code",
        "colab": {}
      },
      "source": [
        "#split the data into training, validation and test\n",
        "train=datasetL.loc[datasetL.day<90,:]\n",
        "valid=datasetL.loc[(datasetL.day>=90)&(datasetL.day<270),:]\n",
        "test=datasetL.loc[datasetL.day>=270,:]"
      ],
      "execution_count": 0,
      "outputs": []
    },
    {
      "cell_type": "markdown",
      "metadata": {
        "id": "nn8xGFH4VZeN",
        "colab_type": "text"
      },
      "source": [
        "### Q1 (7pts). Build an OLS model with intercept (you may want to use smf.ols) over `train` using `arrival` as a sole predictor for `fhv` \n",
        "Check p-value for arrival. What does it indicate? Report the 99% confidence interval for arrival's coefficient"
      ]
    },
    {
      "cell_type": "code",
      "metadata": {
        "id": "rUyBjhggVZeO",
        "colab_type": "code",
        "outputId": "de9b9151-fba9-4602-c136-12476136f1ce",
        "colab": {}
      },
      "source": [
        "# Answer\n",
        "arrivalFHV = smf.ols(formula = 'fhv ~ arrival',data = train).fit()\n",
        "print(arrivalFHV.summary())"
      ],
      "execution_count": 0,
      "outputs": [
        {
          "output_type": "stream",
          "text": [
            "                            OLS Regression Results                            \n",
            "==============================================================================\n",
            "Dep. Variable:                    fhv   R-squared:                       0.383\n",
            "Model:                            OLS   Adj. R-squared:                  0.383\n",
            "Method:                 Least Squares   F-statistic:                     1333.\n",
            "Date:                Sat, 09 Nov 2019   Prob (F-statistic):          2.19e-227\n",
            "Time:                        23:05:58   Log-Likelihood:                -13925.\n",
            "No. Observations:                2148   AIC:                         2.785e+04\n",
            "Df Residuals:                    2146   BIC:                         2.787e+04\n",
            "Df Model:                           1                                         \n",
            "Covariance Type:            nonrobust                                         \n",
            "==============================================================================\n",
            "                 coef    std err          t      P>|t|      [0.025      0.975]\n",
            "------------------------------------------------------------------------------\n",
            "Intercept    146.8893      6.713     21.882      0.000     133.725     160.054\n",
            "arrival       15.8307      0.434     36.506      0.000      14.980      16.681\n",
            "==============================================================================\n",
            "Omnibus:                      353.437   Durbin-Watson:                   0.649\n",
            "Prob(Omnibus):                  0.000   Jarque-Bera (JB):              566.723\n",
            "Skew:                           1.110   Prob(JB):                    8.66e-124\n",
            "Kurtosis:                       4.186   Cond. No.                         30.5\n",
            "==============================================================================\n",
            "\n",
            "Warnings:\n",
            "[1] Standard Errors assume that the covariance matrix of the errors is correctly specified.\n"
          ],
          "name": "stdout"
        }
      ]
    },
    {
      "cell_type": "code",
      "metadata": {
        "id": "ftBOdjJ5VZeR",
        "colab_type": "code",
        "colab": {}
      },
      "source": [
        "## p-value below 5% indicates that one can reject the hypothesis that arrival has no impact on fhv; in fact this hypothesis could be rejected at least at a 99.9% level of confidence"
      ],
      "execution_count": 0,
      "outputs": []
    },
    {
      "cell_type": "code",
      "metadata": {
        "id": "TvrItGRbVZeU",
        "colab_type": "code",
        "outputId": "b9f189c4-ea56-47bb-dbdf-4f13d060e2de",
        "colab": {}
      },
      "source": [
        "arrivalFHV.conf_int(alpha=0.01).loc['arrival']"
      ],
      "execution_count": 0,
      "outputs": [
        {
          "output_type": "execute_result",
          "data": {
            "text/plain": [
              "0    14.712692\n",
              "1    16.948656\n",
              "Name: arrival, dtype: float64"
            ]
          },
          "metadata": {
            "tags": []
          },
          "execution_count": 17
        }
      ]
    },
    {
      "cell_type": "markdown",
      "metadata": {
        "id": "8t_QKQ__VZeY",
        "colab_type": "text"
      },
      "source": [
        "### Q2 (8pts): Consider Historical Impact \n",
        "by adding time lags - add all 12 lag variables into the regression above\n",
        "\n",
        "There is always some delay between passengers arrival and departure (e.g. passing customs, picking up luggage etc). `fhv` might be more related to historical values of flight arrivals (lag) rather than immediate `arrival`. Engineer a formulae with all the following variables and run the regression:\n",
        "* arrival, lag1, ..., lagN: that happens 1hr, ..., N=12 hr ahead.\n",
        "Which of the varialbes have statistically significant impact according to p-values?"
      ]
    },
    {
      "cell_type": "code",
      "metadata": {
        "scrolled": true,
        "id": "2CIlwU1CVZeZ",
        "colab_type": "code",
        "outputId": "5259f483-7e83-4f28-cb2f-0126a9be48e4",
        "colab": {}
      },
      "source": [
        "maxLag = 12\n",
        "lagFeature = ['lag' + str(i+1) for i in range(0,maxLag)]\n",
        "lagFHV = smf.ols(formula = 'fhv ~ arrival + ' + '+'.join(lagFeature), data = train).fit()\n",
        "print(lagFHV.summary())"
      ],
      "execution_count": 0,
      "outputs": [
        {
          "output_type": "stream",
          "text": [
            "                            OLS Regression Results                            \n",
            "==============================================================================\n",
            "Dep. Variable:                    fhv   R-squared:                       0.588\n",
            "Model:                            OLS   Adj. R-squared:                  0.585\n",
            "Method:                 Least Squares   F-statistic:                     234.1\n",
            "Date:                Sat, 09 Nov 2019   Prob (F-statistic):               0.00\n",
            "Time:                        23:05:58   Log-Likelihood:                -13492.\n",
            "No. Observations:                2148   AIC:                         2.701e+04\n",
            "Df Residuals:                    2134   BIC:                         2.709e+04\n",
            "Df Model:                          13                                         \n",
            "Covariance Type:            nonrobust                                         \n",
            "==============================================================================\n",
            "                 coef    std err          t      P>|t|      [0.025      0.975]\n",
            "------------------------------------------------------------------------------\n",
            "Intercept     20.0192     11.724      1.708      0.088      -2.972      43.010\n",
            "arrival        7.6599      0.555     13.810      0.000       6.572       8.748\n",
            "lag1           7.2991      0.634     11.521      0.000       6.057       8.542\n",
            "lag2           2.5382      0.649      3.912      0.000       1.266       3.810\n",
            "lag3           2.2377      0.644      3.476      0.001       0.975       3.500\n",
            "lag4          -0.0597      0.653     -0.091      0.927      -1.340       1.220\n",
            "lag5          -0.4088      0.651     -0.628      0.530      -1.686       0.868\n",
            "lag6           1.7403      0.649      2.681      0.007       0.467       3.013\n",
            "lag7           2.0458      0.651      3.142      0.002       0.769       3.323\n",
            "lag8           2.1865      0.653      3.347      0.001       0.905       3.467\n",
            "lag9           3.4404      0.644      5.344      0.000       2.178       4.703\n",
            "lag10          0.6461      0.650      0.995      0.320      -0.628       1.920\n",
            "lag11         -1.7572      0.634     -2.772      0.006      -3.000      -0.514\n",
            "lag12         -2.2178      0.555     -3.995      0.000      -3.307      -1.129\n",
            "==============================================================================\n",
            "Omnibus:                      396.128   Durbin-Watson:                   0.661\n",
            "Prob(Omnibus):                  0.000   Jarque-Bera (JB):              739.973\n",
            "Skew:                           1.127   Prob(JB):                    2.07e-161\n",
            "Kurtosis:                       4.785   Cond. No.                         210.\n",
            "==============================================================================\n",
            "\n",
            "Warnings:\n",
            "[1] Standard Errors assume that the covariance matrix of the errors is correctly specified.\n"
          ],
          "name": "stdout"
        }
      ]
    },
    {
      "cell_type": "markdown",
      "metadata": {
        "id": "hS28S2eoVZed",
        "colab_type": "text"
      },
      "source": [
        "## Q3 (5pts): Incorperate Temporal Patterns \n",
        "by adding categorical variables for day of week and hour \n",
        "\n",
        "From the visualization in task1Q3 you may see that both - `fhv` as well as arrivals follow a somewhat periodic temporal pattern. Intuitively, this is true for most traffic flows following daily rhytms including rush hours and also varying over the course of the week. Usually we add dummy/categorical variables (Boolean variable: 1 for True and 0 for False) to encapsulate people's traveling pattern during different time periods.\n",
        "\n",
        "Note that it would not make sense to add hour and dow as regular regressors as we can't anticipate their linear numeric impact. Instead expression `C(.)` could be used in the regression formulae in order to treat those variables as categorical adding corresponding dummy variables to account for their possible discrete values.\n",
        "\n",
        "Perform the regression of fhv agains arrival, lags and temporal categorical variables. Which of the varialbes have statistically significant impact according to p-values?"
      ]
    },
    {
      "cell_type": "code",
      "metadata": {
        "id": "smfVhAZVVZed",
        "colab_type": "code",
        "outputId": "e0c1a6df-b8cb-4b6c-8ec5-818a296abf56",
        "colab": {}
      },
      "source": [
        "maxLag=12\n",
        "lagFeature = ['lag' + str(i+1) for i in range(0,maxLag)]\n",
        "lm3 = smf.ols(formula = 'fhv ~ arrival + ' + '+'.join(lagFeature) + '+C(hour)+C(dow)', data = train).fit()\n",
        "print(lm3.summary())"
      ],
      "execution_count": 0,
      "outputs": [
        {
          "output_type": "stream",
          "text": [
            "                            OLS Regression Results                            \n",
            "==============================================================================\n",
            "Dep. Variable:                    fhv   R-squared:                       0.764\n",
            "Model:                            OLS   Adj. R-squared:                  0.759\n",
            "Method:                 Least Squares   F-statistic:                     161.8\n",
            "Date:                Sat, 09 Nov 2019   Prob (F-statistic):               0.00\n",
            "Time:                        23:05:58   Log-Likelihood:                -12895.\n",
            "No. Observations:                2148   AIC:                         2.588e+04\n",
            "Df Residuals:                    2105   BIC:                         2.612e+04\n",
            "Df Model:                          42                                         \n",
            "Covariance Type:            nonrobust                                         \n",
            "=================================================================================\n",
            "                    coef    std err          t      P>|t|      [0.025      0.975]\n",
            "---------------------------------------------------------------------------------\n",
            "Intercept       410.3005     21.133     19.415      0.000     368.857     451.744\n",
            "C(hour)[T.1]   -172.1955     17.045    -10.102      0.000    -205.623    -138.768\n",
            "C(hour)[T.2]   -260.3907     19.345    -13.460      0.000    -298.328    -222.454\n",
            "C(hour)[T.3]   -278.8309     19.783    -14.094      0.000    -317.628    -240.034\n",
            "C(hour)[T.4]   -307.0865     19.716    -15.575      0.000    -345.752    -268.421\n",
            "C(hour)[T.5]   -163.1465     22.057     -7.397      0.000    -206.402    -119.891\n",
            "C(hour)[T.6]   -111.7485     23.160     -4.825      0.000    -157.168     -66.329\n",
            "C(hour)[T.7]   -239.5360     23.917    -10.015      0.000    -286.439    -192.633\n",
            "C(hour)[T.8]   -289.8742     23.566    -12.300      0.000    -336.090    -243.659\n",
            "C(hour)[T.9]   -258.2951     23.001    -11.230      0.000    -303.403    -213.187\n",
            "C(hour)[T.10]  -171.2038     22.919     -7.470      0.000    -216.149    -126.258\n",
            "C(hour)[T.11]  -229.8694     22.831    -10.068      0.000    -274.642    -185.096\n",
            "C(hour)[T.12]  -135.0630     23.788     -5.678      0.000    -181.714     -88.412\n",
            "C(hour)[T.13]  -127.5501     24.062     -5.301      0.000    -174.738     -80.362\n",
            "C(hour)[T.14]  -119.0106     24.002     -4.958      0.000    -166.081     -71.940\n",
            "C(hour)[T.15]  -111.7673     22.638     -4.937      0.000    -156.162     -67.372\n",
            "C(hour)[T.16]  -153.4361     20.685     -7.418      0.000    -194.001    -112.871\n",
            "C(hour)[T.17]  -144.3142     19.427     -7.428      0.000    -182.413    -106.216\n",
            "C(hour)[T.18]   -90.0234     20.076     -4.484      0.000    -129.395     -50.652\n",
            "C(hour)[T.19]   -31.8203     21.027     -1.513      0.130     -73.056       9.415\n",
            "C(hour)[T.20]    46.2143     21.125      2.188      0.029       4.786      87.643\n",
            "C(hour)[T.21]   130.8673     20.995      6.233      0.000      89.695     172.040\n",
            "C(hour)[T.22]    85.7490     19.445      4.410      0.000      47.615     123.883\n",
            "C(hour)[T.23]     1.9950     17.281      0.115      0.908     -31.894      35.884\n",
            "C(dow)[T.1]     -71.9580      8.015     -8.978      0.000     -87.675     -56.241\n",
            "C(dow)[T.2]    -109.6299      8.145    -13.460      0.000    -125.602     -93.657\n",
            "C(dow)[T.3]     -77.7584      8.067     -9.639      0.000     -93.579     -61.938\n",
            "C(dow)[T.4]     -61.8524      8.034     -7.699      0.000     -77.608     -46.097\n",
            "C(dow)[T.5]     -91.0623      8.229    -11.067      0.000    -107.199     -74.925\n",
            "C(dow)[T.6]     -32.9100      8.247     -3.991      0.000     -49.083     -16.737\n",
            "arrival           4.3816      0.630      6.959      0.000       3.147       5.616\n",
            "lag1              5.3960      0.646      8.350      0.000       4.129       6.663\n",
            "lag2              1.9957      0.662      3.015      0.003       0.698       3.294\n",
            "lag3              0.0704      0.663      0.106      0.916      -1.231       1.371\n",
            "lag4             -0.6014      0.663     -0.907      0.364      -1.901       0.699\n",
            "lag5             -2.5642      0.662     -3.872      0.000      -3.863      -1.266\n",
            "lag6             -0.8853      0.661     -1.340      0.180      -2.181       0.410\n",
            "lag7             -0.1989      0.662     -0.300      0.764      -1.498       1.100\n",
            "lag8              0.7170      0.664      1.081      0.280      -0.584       2.018\n",
            "lag9              1.9432      0.664      2.927      0.003       0.641       3.245\n",
            "lag10             1.6299      0.663      2.459      0.014       0.330       2.930\n",
            "lag11             0.5782      0.646      0.895      0.371      -0.688       1.845\n",
            "lag12            -1.8131      0.627     -2.890      0.004      -3.044      -0.583\n",
            "==============================================================================\n",
            "Omnibus:                      338.747   Durbin-Watson:                   0.787\n",
            "Prob(Omnibus):                  0.000   Jarque-Bera (JB):              939.106\n",
            "Skew:                           0.834   Prob(JB):                    1.19e-204\n",
            "Kurtosis:                       5.776   Cond. No.                     1.70e+03\n",
            "==============================================================================\n",
            "\n",
            "Warnings:\n",
            "[1] Standard Errors assume that the covariance matrix of the errors is correctly specified.\n",
            "[2] The condition number is large, 1.7e+03. This might indicate that there are\n",
            "strong multicollinearity or other numerical problems.\n"
          ],
          "name": "stdout"
        }
      ]
    },
    {
      "cell_type": "markdown",
      "metadata": {
        "id": "j_njSqegVZeg",
        "colab_type": "text"
      },
      "source": [
        "### Q4 (10pts). Perform feature selection for lag variables\n",
        "As you may see not all the lag variables have statistically signifant impact on the regression. Maybe some of them are not really relevant?\n",
        "Try different amounts of lag variables m=0,1,...,12 using a loop for training the above regression over the training sample, report the out-of-sample R2 over the validation sample and pick up m which maximizes it. Evaluate the final regression over test sample."
      ]
    },
    {
      "cell_type": "code",
      "metadata": {
        "id": "FtBHIbmyVZeg",
        "colab_type": "code",
        "colab": {}
      },
      "source": [
        "R2_OS=np.zeros(7)\n",
        "for m in range(0,7):\n",
        "    lagFeature = ['lag' + str(i+1) for i in range(0,m)]\n",
        "    lm4 = smf.ols(formula = 'fhv ~ arrival + ' + '+'.join(lagFeature) + '+C(hour)+C(dow)', data = train).fit()\n",
        "    R2_OS[m]=r2_score(valid.fhv,lm4.predict(valid))"
      ],
      "execution_count": 0,
      "outputs": []
    },
    {
      "cell_type": "code",
      "metadata": {
        "id": "XxNosLMpVZej",
        "colab_type": "code",
        "outputId": "d40045b5-39b2-49b8-dd10-13adaefc5dbc",
        "colab": {}
      },
      "source": [
        "R2_OS"
      ],
      "execution_count": 0,
      "outputs": [
        {
          "output_type": "execute_result",
          "data": {
            "text/plain": [
              "array([0.68484815, 0.71384878, 0.71439055, 0.71368232, 0.71477931,\n",
              "       0.71423183, 0.71419596])"
            ]
          },
          "metadata": {
            "tags": []
          },
          "execution_count": 21
        }
      ]
    },
    {
      "cell_type": "code",
      "metadata": {
        "id": "Tmtg3BU-VZen",
        "colab_type": "code",
        "outputId": "94373803-6b3a-4f33-b5d2-4e21db93e6a9",
        "colab": {}
      },
      "source": [
        "m=np.argmax(R2_OS); m"
      ],
      "execution_count": 0,
      "outputs": [
        {
          "output_type": "execute_result",
          "data": {
            "text/plain": [
              "4"
            ]
          },
          "metadata": {
            "tags": []
          },
          "execution_count": 22
        }
      ]
    },
    {
      "cell_type": "code",
      "metadata": {
        "id": "iPoPtJ_MVZep",
        "colab_type": "code",
        "colab": {}
      },
      "source": [
        "lagFeature = ['lag' + str(i+1) for i in range(0,m)]\n",
        "lm4 = smf.ols(formula = 'fhv ~ arrival + ' + '+'.join(lagFeature) + '+C(hour)+C(dow)', data = train).fit()"
      ],
      "execution_count": 0,
      "outputs": []
    },
    {
      "cell_type": "code",
      "metadata": {
        "id": "O9wgL0MYVZes",
        "colab_type": "code",
        "outputId": "3dc9e17e-6d62-4c1f-b7af-e014b1aee478",
        "colab": {}
      },
      "source": [
        "r2_score(test.fhv,lm4.predict(test))"
      ],
      "execution_count": 0,
      "outputs": [
        {
          "output_type": "execute_result",
          "data": {
            "text/plain": [
              "0.6732119031283765"
            ]
          },
          "metadata": {
            "tags": []
          },
          "execution_count": 24
        }
      ]
    },
    {
      "cell_type": "code",
      "metadata": {
        "id": "QYYmtLBeVZev",
        "colab_type": "code",
        "outputId": "896af20e-0736-4749-9490-32103028defb",
        "colab": {}
      },
      "source": [
        "print(lm4.summary())"
      ],
      "execution_count": 0,
      "outputs": [
        {
          "output_type": "stream",
          "text": [
            "                            OLS Regression Results                            \n",
            "==============================================================================\n",
            "Dep. Variable:                    fhv   R-squared:                       0.758\n",
            "Model:                            OLS   Adj. R-squared:                  0.755\n",
            "Method:                 Least Squares   F-statistic:                     195.1\n",
            "Date:                Sat, 09 Nov 2019   Prob (F-statistic):               0.00\n",
            "Time:                        23:05:59   Log-Likelihood:                -12918.\n",
            "No. Observations:                2148   AIC:                         2.591e+04\n",
            "Df Residuals:                    2113   BIC:                         2.610e+04\n",
            "Df Model:                          34                                         \n",
            "Covariance Type:            nonrobust                                         \n",
            "=================================================================================\n",
            "                    coef    std err          t      P>|t|      [0.025      0.975]\n",
            "---------------------------------------------------------------------------------\n",
            "Intercept       443.4337     17.569     25.240      0.000     408.980     477.887\n",
            "C(hour)[T.1]   -184.8625     15.589    -11.859      0.000    -215.434    -154.291\n",
            "C(hour)[T.2]   -302.8968     16.247    -18.643      0.000    -334.759    -271.035\n",
            "C(hour)[T.3]   -323.8034     17.125    -18.908      0.000    -357.387    -290.220\n",
            "C(hour)[T.4]   -328.2224     18.254    -17.980      0.000    -364.021    -292.424\n",
            "C(hour)[T.5]   -166.6071     20.909     -7.968      0.000    -207.611    -125.603\n",
            "C(hour)[T.6]   -104.3961     22.032     -4.738      0.000    -147.603     -61.190\n",
            "C(hour)[T.7]   -226.8357     21.814    -10.399      0.000    -269.615    -184.057\n",
            "C(hour)[T.8]   -288.4338     19.084    -15.114      0.000    -325.858    -251.009\n",
            "C(hour)[T.9]   -274.4892     15.664    -17.524      0.000    -305.207    -243.771\n",
            "C(hour)[T.10]  -231.6060     15.495    -14.947      0.000    -261.994    -201.218\n",
            "C(hour)[T.11]  -309.6391     15.803    -19.594      0.000    -340.630    -278.648\n",
            "C(hour)[T.12]  -229.4716     16.769    -13.685      0.000    -262.356    -196.587\n",
            "C(hour)[T.13]  -190.9280     18.213    -10.483      0.000    -226.646    -155.210\n",
            "C(hour)[T.14]  -145.4630     20.203     -7.200      0.000    -185.084    -105.843\n",
            "C(hour)[T.15]  -115.1524     20.769     -5.544      0.000    -155.882     -74.423\n",
            "C(hour)[T.16]  -131.9489     18.139     -7.274      0.000    -167.521     -96.377\n",
            "C(hour)[T.17]  -162.9889     16.265    -10.021      0.000    -194.887    -131.091\n",
            "C(hour)[T.18]  -123.2843     16.148     -7.635      0.000    -154.951     -91.617\n",
            "C(hour)[T.19]  -103.5224     16.642     -6.221      0.000    -136.159     -70.886\n",
            "C(hour)[T.20]   -31.5110     16.412     -1.920      0.055     -63.696       0.674\n",
            "C(hour)[T.21]    77.8174     16.554      4.701      0.000      45.353     110.282\n",
            "C(hour)[T.22]    61.7475     16.197      3.812      0.000      29.983      93.512\n",
            "C(hour)[T.23]     3.9153     15.383      0.255      0.799     -26.251      34.082\n",
            "C(dow)[T.1]     -72.4808      8.083     -8.967      0.000     -88.332     -56.629\n",
            "C(dow)[T.2]    -109.3212      8.214    -13.309      0.000    -125.430     -93.213\n",
            "C(dow)[T.3]     -78.8061      8.105     -9.723      0.000     -94.700     -62.912\n",
            "C(dow)[T.4]     -61.8609      8.103     -7.634      0.000     -77.752     -45.970\n",
            "C(dow)[T.5]     -92.6203      8.273    -11.195      0.000    -108.845     -76.396\n",
            "C(dow)[T.6]     -33.5929      8.280     -4.057      0.000     -49.831     -17.355\n",
            "arrival           4.1005      0.628      6.532      0.000       2.869       5.332\n",
            "lag1              5.6194      0.646      8.695      0.000       4.352       6.887\n",
            "lag2              2.1378      0.661      3.236      0.001       0.842       3.434\n",
            "lag3             -0.2682      0.645     -0.416      0.678      -1.533       0.997\n",
            "lag4             -1.1947      0.625     -1.913      0.056      -2.419       0.030\n",
            "==============================================================================\n",
            "Omnibus:                      337.248   Durbin-Watson:                   0.793\n",
            "Prob(Omnibus):                  0.000   Jarque-Bera (JB):              902.115\n",
            "Skew:                           0.842   Prob(JB):                    1.28e-196\n",
            "Kurtosis:                       5.691   Cond. No.                         945.\n",
            "==============================================================================\n",
            "\n",
            "Warnings:\n",
            "[1] Standard Errors assume that the covariance matrix of the errors is correctly specified.\n"
          ],
          "name": "stdout"
        }
      ]
    },
    {
      "cell_type": "markdown",
      "metadata": {
        "id": "5oGJWq-WVZey",
        "colab_type": "text"
      },
      "source": [
        "### Q5 (10pts). Visualize temporal patterns and lag impacts through bar plots\n",
        "For the best regression above visualize:\n",
        "- bar plot of hour of the day vs its impact coefficient\n",
        "- bar plot of day of the week vs its impact coefficient\n",
        "- bar plot of the lag (0 for immediate arrivals, 1,2,... for lags)"
      ]
    },
    {
      "cell_type": "code",
      "metadata": {
        "id": "y-pFNePPVZez",
        "colab_type": "code",
        "outputId": "a61b6052-2ffe-415d-a11a-9db53a389530",
        "colab": {}
      },
      "source": [
        "#impact of time of the day\n",
        "plt.plot(range(24),lm4.params[1:25])"
      ],
      "execution_count": 0,
      "outputs": [
        {
          "output_type": "execute_result",
          "data": {
            "text/plain": [
              "[<matplotlib.lines.Line2D at 0x1076a1fd0>]"
            ]
          },
          "metadata": {
            "tags": []
          },
          "execution_count": 26
        },
        {
          "output_type": "display_data",
          "data": {
            "image/png": "[encoded data removed]",
            "text/plain": [
              "<Figure size 432x288 with 1 Axes>"
            ]
          },
          "metadata": {
            "tags": [],
            "needs_background": "light"
          }
        }
      ]
    },
    {
      "cell_type": "code",
      "metadata": {
        "id": "XSjtm60wVZe1",
        "colab_type": "code",
        "outputId": "abe4f449-3144-4b88-f865-9eea9a208c28",
        "colab": {}
      },
      "source": [
        "#impact of day of the week\n",
        "plt.bar(['Mon','Tue','Wed','Thu','Fri','Sat','Sun'],lm4.params[25:32])"
      ],
      "execution_count": 0,
      "outputs": [
        {
          "output_type": "execute_result",
          "data": {
            "text/plain": [
              "<BarContainer object of 7 artists>"
            ]
          },
          "metadata": {
            "tags": []
          },
          "execution_count": 27
        },
        {
          "output_type": "display_data",
          "data": {
            "image/png": "[encoded data removed]",
            "text/plain": [
              "<Figure size 432x288 with 1 Axes>"
            ]
          },
          "metadata": {
            "tags": [],
            "needs_background": "light"
          }
        }
      ]
    },
    {
      "cell_type": "code",
      "metadata": {
        "id": "AU6yQrm5VZe3",
        "colab_type": "code",
        "outputId": "dbd4b690-1e6b-40ed-de3d-aade23105112",
        "colab": {}
      },
      "source": [
        "#impact of arrivals\n",
        "plt.bar(range(5),lm4.params[-5:])"
      ],
      "execution_count": 0,
      "outputs": [
        {
          "output_type": "execute_result",
          "data": {
            "text/plain": [
              "<BarContainer object of 5 artists>"
            ]
          },
          "metadata": {
            "tags": []
          },
          "execution_count": 28
        },
        {
          "output_type": "display_data",
          "data": {
            "image/png": "[encoded data removed]",
            "text/plain": [
              "<Figure size 432x288 with 1 Axes>"
            ]
          },
          "metadata": {
            "tags": [],
            "needs_background": "light"
          }
        }
      ]
    },
    {
      "cell_type": "markdown",
      "metadata": {
        "id": "34I-A6PsVZe7",
        "colab_type": "raw"
      },
      "source": [
        "# get p-value and plot them using plt.bar.\n",
        "# mark their p-value around each bar\n",
        "lagInterceptFeature = ['Intercept','arrival'] + lagFeature\n",
        "plt.figure(figsize = (40,5))\n",
        "plt.bar(lagInterceptFeature, lagFHV.pvalues)\n",
        "# This is the tagging part\n",
        "for x,y in zip(lagInterceptFeature, lagFHV.pvalues):\n",
        "    plt.annotate(s = str(y), # This is the text with point (x,y)\n",
        "                 xy = (x,y), # This is the point we need to annotate\n",
        "                 #arrowprops = dict(facecolor = 'black', shrink = 0.05), # This is the style\n",
        "                 ha = 'center') # This is the position\n",
        "plt.show()"
      ]
    },
    {
      "cell_type": "markdown",
      "metadata": {
        "id": "VakfBC2-VZe7",
        "colab_type": "text"
      },
      "source": [
        "Please find the optimal choice for Lasso regression. What lag feature should we use here?"
      ]
    },
    {
      "cell_type": "markdown",
      "metadata": {
        "id": "YeC6W_JAVZe8",
        "colab_type": "text"
      },
      "source": [
        "## Task 3. Cluster the days of the year based on the relative timeline of their FHV departures from the airport"
      ]
    },
    {
      "cell_type": "markdown",
      "metadata": {
        "id": "UIFj_kIKVZe8",
        "colab_type": "text"
      },
      "source": [
        "### Q1 (5pts). From the entire `dataset`, create a dataframe with days as rows, hours as columns and FHV ridership as values (feel free to use pd.pivottable). Normalize by the total daily ridership"
      ]
    },
    {
      "cell_type": "code",
      "metadata": {
        "id": "eFvXl22OVZe8",
        "colab_type": "code",
        "colab": {}
      },
      "source": [
        "dayTimelines=pd.pivot_table(dataset,values='fhv',index='day',columns='hour')"
      ],
      "execution_count": 0,
      "outputs": []
    },
    {
      "cell_type": "markdown",
      "metadata": {
        "id": "2o3b7hOuVZe_",
        "colab_type": "text"
      },
      "source": [
        "Using this dataframe cluster days with K-means clustering based on their hourly FHV ridership timeline"
      ]
    },
    {
      "cell_type": "code",
      "metadata": {
        "id": "Q3GjjzixVZe_",
        "colab_type": "code",
        "colab": {}
      },
      "source": [
        "dayTimelines=dayTimelines.div(dayTimelines.sum(axis=1), axis=0) "
      ],
      "execution_count": 0,
      "outputs": []
    },
    {
      "cell_type": "markdown",
      "metadata": {
        "id": "vOMIpJneVZfD",
        "colab_type": "text"
      },
      "source": [
        "### Q2 (10pts). Try K-means with the differet numbers of clusters k=2..7, reporting average Silhuette score for each. Which k is the \"optimal\" from Silhuette's standpoint?"
      ]
    },
    {
      "cell_type": "code",
      "metadata": {
        "id": "QBhm6q9GVZfD",
        "colab_type": "code",
        "outputId": "7390cd23-7f14-48f4-f757-b441191f6547",
        "colab": {}
      },
      "source": [
        "for n_clusters in range(2,7): #try different numbers of clusters\n",
        "    km = KMeans(n_clusters=n_clusters, random_state=10)\n",
        "    cluster_labels = km.fit_predict(dayTimelines)\n",
        "    #report average Silhouette score\n",
        "    silhouette_avg = silhouette_score(dayTimelines, cluster_labels)\n",
        "    print(\"For n_clusters ={},\".format(n_clusters)+\" the average silhouette_score is :{}\".format(silhouette_avg))"
      ],
      "execution_count": 0,
      "outputs": [
        {
          "output_type": "stream",
          "text": [
            "For n_clusters =2, the average silhouette_score is :0.216129432797\n",
            "For n_clusters =3, the average silhouette_score is :0.213582241446\n",
            "For n_clusters =4, the average silhouette_score is :0.144931345567\n",
            "For n_clusters =5, the average silhouette_score is :0.131368070127\n",
            "For n_clusters =6, the average silhouette_score is :0.109311031426\n"
          ],
          "name": "stdout"
        }
      ]
    },
    {
      "cell_type": "markdown",
      "metadata": {
        "id": "UjCvadffVZfG",
        "colab_type": "text"
      },
      "source": [
        "### Q3 (15pts). Perform K-means with the optimal k from above. Report the number of occurance of each day of the week within each of the clusters. How would you interpret the clusters based on that? Visualize the aggregated hourly timeline over all the days within each cluster.\n",
        "Create a dictionary of the cluster numbers corresponding to each day of the year, apply it adding a column \"cluster\" to the dataframe and use pivot table with aggregation function `count` to collect the numbers above. Also use pivot table to collect total riders per hour of the day within each cluster for further visualization (after appropriate normalization by the grand total)."
      ]
    },
    {
      "cell_type": "code",
      "metadata": {
        "id": "zjMsGGPcVZfH",
        "colab_type": "code",
        "colab": {}
      },
      "source": [
        "km = KMeans(n_clusters=2, random_state=1)\n",
        "cluster_labels = km.fit_predict(dayTimelines)\n",
        "dayCluster={i:cluster_labels[i] for i in range(len(cluster_labels))}"
      ],
      "execution_count": 0,
      "outputs": []
    },
    {
      "cell_type": "code",
      "metadata": {
        "id": "6EdkvIqOVZfJ",
        "colab_type": "code",
        "colab": {}
      },
      "source": [
        "datasetC=dataset.copy()"
      ],
      "execution_count": 0,
      "outputs": []
    },
    {
      "cell_type": "code",
      "metadata": {
        "id": "c63-qooaVZfM",
        "colab_type": "code",
        "colab": {}
      },
      "source": [
        "datasetC['Cluster']=dataset.day.map(dayCluster)"
      ],
      "execution_count": 0,
      "outputs": []
    },
    {
      "cell_type": "code",
      "metadata": {
        "id": "9u6n3gnUVZfP",
        "colab_type": "code",
        "outputId": "2c2a6817-fbb8-478f-94f6-6dc475512386",
        "colab": {}
      },
      "source": [
        "pd.pivot_table(datasetC,values='date', index='dow',columns='Cluster', aggfunc='count')"
      ],
      "execution_count": 0,
      "outputs": [
        {
          "output_type": "execute_result",
          "data": {
            "text/html": [
              "<div>\n",
              "<style scoped>\n",
              "    .dataframe tbody tr th:only-of-type {\n",
              "        vertical-align: middle;\n",
              "    }\n",
              "\n",
              "    .dataframe tbody tr th {\n",
              "        vertical-align: top;\n",
              "    }\n",
              "\n",
              "    .dataframe thead th {\n",
              "        text-align: right;\n",
              "    }\n",
              "</style>\n",
              "<table border=\"1\" class=\"dataframe\">\n",
              "  <thead>\n",
              "    <tr style=\"text-align: right;\">\n",
              "      <th>Cluster</th>\n",
              "      <th>0</th>\n",
              "      <th>1</th>\n",
              "    </tr>\n",
              "    <tr>\n",
              "      <th>dow</th>\n",
              "      <th></th>\n",
              "      <th></th>\n",
              "    </tr>\n",
              "  </thead>\n",
              "  <tbody>\n",
              "    <tr>\n",
              "      <th>0</th>\n",
              "      <td>1104</td>\n",
              "      <td>168</td>\n",
              "    </tr>\n",
              "    <tr>\n",
              "      <th>1</th>\n",
              "      <td>912</td>\n",
              "      <td>336</td>\n",
              "    </tr>\n",
              "    <tr>\n",
              "      <th>2</th>\n",
              "      <td>552</td>\n",
              "      <td>696</td>\n",
              "    </tr>\n",
              "    <tr>\n",
              "      <th>3</th>\n",
              "      <td>432</td>\n",
              "      <td>816</td>\n",
              "    </tr>\n",
              "    <tr>\n",
              "      <th>4</th>\n",
              "      <td>984</td>\n",
              "      <td>264</td>\n",
              "    </tr>\n",
              "    <tr>\n",
              "      <th>5</th>\n",
              "      <td>1176</td>\n",
              "      <td>72</td>\n",
              "    </tr>\n",
              "    <tr>\n",
              "      <th>6</th>\n",
              "      <td>72</td>\n",
              "      <td>1176</td>\n",
              "    </tr>\n",
              "  </tbody>\n",
              "</table>\n",
              "</div>"
            ],
            "text/plain": [
              "Cluster     0     1\n",
              "dow                \n",
              "0        1104   168\n",
              "1         912   336\n",
              "2         552   696\n",
              "3         432   816\n",
              "4         984   264\n",
              "5        1176    72\n",
              "6          72  1176"
            ]
          },
          "metadata": {
            "tags": []
          },
          "execution_count": 35
        }
      ]
    },
    {
      "cell_type": "code",
      "metadata": {
        "id": "dNN7aYpMVZfT",
        "colab_type": "code",
        "colab": {}
      },
      "source": [
        "#second cluster distringuishes Sunday and midweek, while first - beginning and the week as well as Friday, Saturday"
      ],
      "execution_count": 0,
      "outputs": []
    },
    {
      "cell_type": "code",
      "metadata": {
        "id": "GZ25giysVZfX",
        "colab_type": "code",
        "colab": {}
      },
      "source": [
        "#visualize the timeline for each cluster"
      ],
      "execution_count": 0,
      "outputs": []
    },
    {
      "cell_type": "code",
      "metadata": {
        "id": "CX8m0NIOVZfb",
        "colab_type": "code",
        "colab": {}
      },
      "source": [
        "ClusterTimelines=pd.pivot_table(datasetC,values='fhv', index='hour',columns='Cluster', aggfunc='sum')"
      ],
      "execution_count": 0,
      "outputs": []
    },
    {
      "cell_type": "code",
      "metadata": {
        "id": "I-8H65opVZff",
        "colab_type": "code",
        "colab": {}
      },
      "source": [
        "ClusterTimelines/=ClusterTimelines.sum(axis=0)"
      ],
      "execution_count": 0,
      "outputs": []
    },
    {
      "cell_type": "code",
      "metadata": {
        "id": "pQACrFHMVZfh",
        "colab_type": "code",
        "outputId": "dc3e1da4-ca6f-4030-dab4-13e958d85aa0",
        "colab": {}
      },
      "source": [
        "ClusterTimelines.head()"
      ],
      "execution_count": 0,
      "outputs": [
        {
          "output_type": "execute_result",
          "data": {
            "text/html": [
              "<div>\n",
              "<style scoped>\n",
              "    .dataframe tbody tr th:only-of-type {\n",
              "        vertical-align: middle;\n",
              "    }\n",
              "\n",
              "    .dataframe tbody tr th {\n",
              "        vertical-align: top;\n",
              "    }\n",
              "\n",
              "    .dataframe thead th {\n",
              "        text-align: right;\n",
              "    }\n",
              "</style>\n",
              "<table border=\"1\" class=\"dataframe\">\n",
              "  <thead>\n",
              "    <tr style=\"text-align: right;\">\n",
              "      <th>Cluster</th>\n",
              "      <th>0</th>\n",
              "      <th>1</th>\n",
              "    </tr>\n",
              "    <tr>\n",
              "      <th>hour</th>\n",
              "      <th></th>\n",
              "      <th></th>\n",
              "    </tr>\n",
              "  </thead>\n",
              "  <tbody>\n",
              "    <tr>\n",
              "      <th>0</th>\n",
              "      <td>0.070619</td>\n",
              "      <td>0.045014</td>\n",
              "    </tr>\n",
              "    <tr>\n",
              "      <th>1</th>\n",
              "      <td>0.044634</td>\n",
              "      <td>0.020464</td>\n",
              "    </tr>\n",
              "    <tr>\n",
              "      <th>2</th>\n",
              "      <td>0.015074</td>\n",
              "      <td>0.006049</td>\n",
              "    </tr>\n",
              "    <tr>\n",
              "      <th>3</th>\n",
              "      <td>0.006875</td>\n",
              "      <td>0.003853</td>\n",
              "    </tr>\n",
              "    <tr>\n",
              "      <th>4</th>\n",
              "      <td>0.006145</td>\n",
              "      <td>0.005200</td>\n",
              "    </tr>\n",
              "  </tbody>\n",
              "</table>\n",
              "</div>"
            ],
            "text/plain": [
              "Cluster         0         1\n",
              "hour                       \n",
              "0        0.070619  0.045014\n",
              "1        0.044634  0.020464\n",
              "2        0.015074  0.006049\n",
              "3        0.006875  0.003853\n",
              "4        0.006145  0.005200"
            ]
          },
          "metadata": {
            "tags": []
          },
          "execution_count": 40
        }
      ]
    },
    {
      "cell_type": "code",
      "metadata": {
        "id": "oYugdmbnVZfo",
        "colab_type": "code",
        "outputId": "4a255c08-37e4-4dac-af27-5e533a7cc005",
        "colab": {}
      },
      "source": [
        "ClusterTimelines.plot()"
      ],
      "execution_count": 0,
      "outputs": [
        {
          "output_type": "execute_result",
          "data": {
            "text/plain": [
              "<matplotlib.axes._subplots.AxesSubplot at 0x1a1d1f6d90>"
            ]
          },
          "metadata": {
            "tags": []
          },
          "execution_count": 41
        },
        {
          "output_type": "display_data",
          "data": {
            "image/png": "[encoded data removed]",
            "text/plain": [
              "<Figure size 432x288 with 1 Axes>"
            ]
          },
          "metadata": {
            "tags": [],
            "needs_background": "light"
          }
        }
      ]
    },
    {
      "cell_type": "code",
      "metadata": {
        "id": "MIzpit4aVZfq",
        "colab_type": "code",
        "colab": {}
      },
      "source": [
        ""
      ],
      "execution_count": 0,
      "outputs": []
    }
  ]
}